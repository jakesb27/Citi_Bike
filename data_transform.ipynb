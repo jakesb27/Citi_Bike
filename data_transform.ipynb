{
 "cells": [
  {
   "cell_type": "code",
   "execution_count": 1,
   "id": "5e7d5126",
   "metadata": {},
   "outputs": [],
   "source": [
    "import requests\n",
    "import pandas as pd\n",
    "from config import geoapify_key"
   ]
  },
  {
   "cell_type": "code",
   "execution_count": 2,
   "id": "f00baeea",
   "metadata": {},
   "outputs": [],
   "source": [
    "base_url = f\"https://api.geoapify.com/v1/geocode/reverse?\"\n",
    "\n",
    "params = {\n",
    "    \"type\": \"postcode\",\n",
    "    \"apiKey\": geoapify_key\n",
    "}"
   ]
  },
  {
   "cell_type": "code",
   "execution_count": 3,
   "id": "60e78308",
   "metadata": {},
   "outputs": [],
   "source": [
    "citi_bike_data_1 = pd.read_csv('resources/202301-citibike-tripdata.csv',\n",
    "                               dtype={'start_station_id': 'str', 'end_station_id': 'str'})\n",
    "citi_bike_data_2 = pd.read_csv('resources/202302-citibike-tripdata.csv',\n",
    "                               dtype={'start_station_id': 'str', 'end_station_id': 'str'})\n",
    "combo_df = citi_bike_data_1.append(citi_bike_data_2, ignore_index=True)\n",
    "citi_bike_data_1 = None\n",
    "citi_bike_data_2 = None"
   ]
  },
  {
   "cell_type": "code",
   "execution_count": 4,
   "id": "f1066bfc",
   "metadata": {},
   "outputs": [],
   "source": [
    "citi_bike_data_3 = pd.read_csv('resources/202303-citibike-tripdata.csv',\n",
    "                               dtype={'start_station_id': 'str', 'end_station_id': 'str'})\n",
    "combo_df = combo_df.append(citi_bike_data_3, ignore_index=True)\n",
    "citi_bike_data_3 = None"
   ]
  },
  {
   "cell_type": "code",
   "execution_count": 6,
   "id": "d34e9a15",
   "metadata": {},
   "outputs": [],
   "source": [
    "combo_df.to_csv('resources/2023-Q1_CitiBike.csv', index=False)"
   ]
  },
  {
   "cell_type": "code",
   "execution_count": 7,
   "id": "6e3f094a",
   "metadata": {},
   "outputs": [],
   "source": [
    "station_id_group = combo_df.groupby('start_station_id')[['start_lat', 'start_lng']].mean()\n",
    "station_id_group = station_id_group.reset_index()"
   ]
  },
  {
   "cell_type": "code",
   "execution_count": 8,
   "id": "49ea5882",
   "metadata": {},
   "outputs": [],
   "source": [
    "for index, row in station_id_group.iterrows():\n",
    "    start_lat = combo_df.loc[index, \"start_lat\"]\n",
    "    start_lng = combo_df.loc[index, \"start_lng\"]\n",
    "    params[\"lat\"] = start_lat\n",
    "    params[\"lon\"] = start_lng\n",
    "\n",
    "    results = requests.get(base_url, params=params)\n",
    "    results = results.json()\n",
    "\n",
    "    station_id_group.loc[index, \"city\"] = results[\"features\"][0][\"properties\"][\"city\"]\n",
    "    station_id_group.loc[index, \"state\"] = results[\"features\"][0][\"properties\"][\"state\"]\n",
    "    station_id_group.loc[index, \"postcode\"] = results[\"features\"][0][\"properties\"][\"postcode\"]"
   ]
  },
  {
   "cell_type": "code",
   "execution_count": 9,
   "id": "38901a7a",
   "metadata": {},
   "outputs": [],
   "source": [
    "station_id_group.to_csv(\"resources/station_details.csv\", index=False)"
   ]
  }
 ],
 "metadata": {
  "kernelspec": {
   "display_name": "Python 3 (ipykernel)",
   "language": "python",
   "name": "python3"
  },
  "language_info": {
   "codemirror_mode": {
    "name": "ipython",
    "version": 3
   },
   "file_extension": ".py",
   "mimetype": "text/x-python",
   "name": "python",
   "nbconvert_exporter": "python",
   "pygments_lexer": "ipython3",
   "version": "3.7.7"
  }
 },
 "nbformat": 4,
 "nbformat_minor": 5
}
